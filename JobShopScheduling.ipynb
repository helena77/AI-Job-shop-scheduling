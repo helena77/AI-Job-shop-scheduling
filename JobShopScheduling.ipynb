{
 "cells": [
  {
   "cell_type": "markdown",
   "metadata": {},
   "source": [
    "#### Job Shop Scheduling ####\n",
    "\n",
    "**Short summary**\n",
    "\n",
    "1. The problem consists of N *jobs* 1..N  each job has some number of *tasks*\n",
    "1. For each job, the tasks must be done in sequence\n",
    "1. Each task requires a *resource*,  and two tasks that use the same resource cannot be scheduled at the same time\n",
    "1. All tasks take three time units to complete\n",
    "1. All tasks are ready for execution at time 0, and must complete at or before time 15\n",
    "  1. Which means that if any job has more five tasks, it cannot be scheduled, no matter what\n",
    "\n",
    "There are some hints at the bottom of the file.\n",
    "\n",
    "Input to the problem comes in a variable like this:\n"
   ]
  },
  {
   "cell_type": "code",
   "execution_count": 172,
   "metadata": {},
   "outputs": [],
   "source": [
    "# Job 1\n",
    "#   (o11, r1)   (o12, r2) (o13, r3)\n",
    "# Job 2\n",
    "#   (o21, r1)  (o22, r2)\n",
    "# Job 3\n",
    "#   (o31, r3) (o32, r1) (o33, r2)\n",
    "# Job 4\n",
    "#   (o41, r4) (o42, r2)\n",
    "#\n",
    "# The ri are the resources\n",
    "\n",
    "example = [[(\"o11\", \"r1\"), (\"o12\", \"r2\"), (\"o13\", \"r3\")],\n",
    "           [(\"o21\", \"r1\"), (\"o22\", \"r2\")],\n",
    "           [(\"o31\", \"r3\"), (\"o32\", \"r1\"), (\"o33\", \"r2\")],\n",
    "           [(\"o41\", \"r4\"), (\"o42\", \"r2\")]]\n"
   ]
  },
  {
   "cell_type": "markdown",
   "metadata": {},
   "source": [
    "----------------------------------------------"
   ]
  },
  {
   "cell_type": "code",
   "execution_count": 173,
   "metadata": {},
   "outputs": [],
   "source": [
    "from constraint import *"
   ]
  },
  {
   "cell_type": "code",
   "execution_count": 174,
   "metadata": {},
   "outputs": [],
   "source": [
    "###  Your implementation of solveCSP here:  takes a problem description as input, returns a \n",
    "###  list of solutions as output.  The method problem.getSolutions() returns a list of solutions.\n",
    "###  Each solution is a dictionary -- key is a task, value is the value it is assigned by the CSP\n",
    "def solveCSP(problemList):\n",
    "    problem = Problem()\n",
    "    #print(timeList)\n",
    "    tasks = []\n",
    "    for jobno in range(len(problemList)): \n",
    "        task = subtasks(problemList, jobno)\n",
    "        for subtask in task:\n",
    "            problem.addVariable(subtask, range(5))\n",
    "    orderCSP(problem, problemList)\n",
    "    mutexCSP(problem, problemList)\n",
    "    return problem.getSolutions()    "
   ]
  },
  {
   "cell_type": "code",
   "execution_count": 175,
   "metadata": {},
   "outputs": [],
   "source": [
    "def orderCSP(problem, problemList):\n",
    "    for jobno in range(len(problemList)):\n",
    "        subtasks = problemList[jobno]\n",
    "        for i in range(len(subtasks)-1):\n",
    "            task1 = subtasks[i]\n",
    "            task2 = subtasks[i+1]\n",
    "            addConstraintByOrder(problem, (task1[0],task2[0]))               "
   ]
  },
  {
   "cell_type": "code",
   "execution_count": 176,
   "metadata": {},
   "outputs": [],
   "source": [
    "def addConstraintByOrder(problem, pair):\n",
    "    problem.addConstraint(lambda x, y: x < y, pair)"
   ]
  },
  {
   "cell_type": "code",
   "execution_count": 177,
   "metadata": {},
   "outputs": [],
   "source": [
    "def mutexCSP(problem, problemList):\n",
    "    subtasksList = []\n",
    "    for jobno in range(len(problemList)):\n",
    "        for subtask in getSubTask(problemList, jobno):\n",
    "            subtasksList.append(subtask)\n",
    "    \n",
    "    for i in range(len(subtasksList)):\n",
    "        for j in range(i+1, len(subtasksList)):\n",
    "            if subtasksList[i][1] == subtasksList[j][1]:\n",
    "                addConstraintByMutex(problem, (subtasksList[i][0],subtasksList[j][0]))                "
   ]
  },
  {
   "cell_type": "code",
   "execution_count": 178,
   "metadata": {},
   "outputs": [],
   "source": [
    "def getSubTask(problemList, jobno):\n",
    "    return problemList[jobno]"
   ]
  },
  {
   "cell_type": "code",
   "execution_count": 179,
   "metadata": {},
   "outputs": [],
   "source": [
    "def addConstraintByMutex(problem, pair):\n",
    "    problem.addConstraint(lambda x, y: x != y, pair)"
   ]
  },
  {
   "cell_type": "code",
   "execution_count": 180,
   "metadata": {},
   "outputs": [],
   "source": [
    "def printSolution(problemList):\n",
    "    solutions = solveCSP(problemList)\n",
    "    if len(solutions) == 0:\n",
    "        print(\"No solutions for this problem\")\n",
    "    else:\n",
    "        print(\"There are \" + str(len(solutions)) + \" solutions.  Here is one:\\n\")\n",
    "        solution = solutions[0]\n",
    "        for jobno in range(0, len(problemList)):\n",
    "            print(\"Schedule for Job \" + str(jobno+1))\n",
    "            for subtask in sorted(subtasks(problemList, jobno)):\n",
    "                print(\"   Subtask \" + subtask + \" starts at \" + str(solution[subtask]*3) + \\\n",
    "                      \" ends at \" + str(2 + int(solution[subtask]*3)) + \"\\tuses \" + resourceFor(subtask, problemList))"
   ]
  },
  {
   "cell_type": "code",
   "execution_count": 181,
   "metadata": {},
   "outputs": [],
   "source": [
    "def subtasks(problemList, jobno):\n",
    "    subtasksList = problemList[jobno]\n",
    "    taskList = [subtask[0] for subtask in subtasksList]\n",
    "    return taskList"
   ]
  },
  {
   "cell_type": "code",
   "execution_count": 182,
   "metadata": {},
   "outputs": [],
   "source": [
    "def resourceFor(subtask, problemList):\n",
    "    resource = \"\"\n",
    "    for jobno in range(len(problemList)):\n",
    "        subtasks = problemList[jobno]\n",
    "        for task in subtasks:\n",
    "            if task[0] == subtask:\n",
    "                resource = task[1]\n",
    "    return resource"
   ]
  },
  {
   "cell_type": "code",
   "execution_count": 183,
   "metadata": {
    "scrolled": false
   },
   "outputs": [
    {
     "name": "stdout",
     "output_type": "stream",
     "text": [
      "There are 325 solutions.  Here is one:\n",
      "\n",
      "Schedule for Job 1\n",
      "   Subtask o11 starts at 6 ends at 8\tuses r1\n",
      "   Subtask o12 starts at 9 ends at 11\tuses r2\n",
      "   Subtask o13 starts at 12 ends at 14\tuses r3\n",
      "Schedule for Job 2\n",
      "   Subtask o21 starts at 9 ends at 11\tuses r1\n",
      "   Subtask o22 starts at 12 ends at 14\tuses r2\n",
      "Schedule for Job 3\n",
      "   Subtask o31 starts at 0 ends at 2\tuses r3\n",
      "   Subtask o32 starts at 3 ends at 5\tuses r1\n",
      "   Subtask o33 starts at 6 ends at 8\tuses r2\n",
      "Schedule for Job 4\n",
      "   Subtask o41 starts at 0 ends at 2\tuses r4\n",
      "   Subtask o42 starts at 3 ends at 5\tuses r2\n"
     ]
    }
   ],
   "source": [
    "printSolution(example)"
   ]
  },
  {
   "cell_type": "markdown",
   "metadata": {},
   "source": [
    "-----------------------------------\n",
    "\n",
    "**Hints**\n",
    "1.  Since all tasks take three time units, it's easiest to partition time into \"buckets\" each of which is three time units long.  For example, bucket 1 is the interval between t=0 and t=2 inclusive, bucket 1 is t=3 to t=5 inclusive.  You will notice from the **printSolution** code that my solver does that bucketing, then when it prints the solution it converts the time bucket number to a real point in time\n",
    "2.  There are only two kinds of constraints:  order constraints (one task must come after another) and mutex constraints (two tasks must not be scheduled at the same time).   If you write helper functions for those two constraints, it will simplify your code a lot."
   ]
  }
 ],
 "metadata": {
  "kernelspec": {
   "display_name": "Python 3",
   "language": "python",
   "name": "python3"
  },
  "language_info": {
   "codemirror_mode": {
    "name": "ipython",
    "version": 3
   },
   "file_extension": ".py",
   "mimetype": "text/x-python",
   "name": "python",
   "nbconvert_exporter": "python",
   "pygments_lexer": "ipython3",
   "version": "3.7.1"
  }
 },
 "nbformat": 4,
 "nbformat_minor": 2
}
